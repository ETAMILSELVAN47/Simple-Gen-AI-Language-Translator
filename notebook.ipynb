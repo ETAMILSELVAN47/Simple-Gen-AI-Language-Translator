{
 "cells": [
  {
   "cell_type": "code",
   "execution_count": 2,
   "metadata": {},
   "outputs": [
    {
     "data": {
      "text/plain": [
       "True"
      ]
     },
     "execution_count": 2,
     "metadata": {},
     "output_type": "execute_result"
    }
   ],
   "source": [
    "import os\n",
    "from dotenv import load_dotenv\n",
    "load_dotenv()"
   ]
  },
  {
   "cell_type": "code",
   "execution_count": 3,
   "metadata": {},
   "outputs": [],
   "source": [
    "groq_api_key=os.getenv(key='GROQ_API_KEY')"
   ]
  },
  {
   "cell_type": "code",
   "execution_count": 4,
   "metadata": {},
   "outputs": [
    {
     "data": {
      "text/plain": [
       "ChatGroq(client=<groq.resources.chat.completions.Completions object at 0x000002BD550E16F0>, async_client=<groq.resources.chat.completions.AsyncCompletions object at 0x000002BD550E2290>, model_name='gemma2-9b-It', model_kwargs={}, groq_api_key=SecretStr('**********'))"
      ]
     },
     "execution_count": 4,
     "metadata": {},
     "output_type": "execute_result"
    }
   ],
   "source": [
    "from langchain_groq import ChatGroq\n",
    "model=ChatGroq(model='gemma2-9b-It',groq_api_key=groq_api_key)\n",
    "model"
   ]
  },
  {
   "cell_type": "code",
   "execution_count": 5,
   "metadata": {},
   "outputs": [],
   "source": [
    "from langchain_core.messages import SystemMessage,HumanMessage\n",
    "messages=[\n",
    "    SystemMessage(content='Translate the following to Tamil'),\n",
    "    HumanMessage(content='Hello How are you?')\n",
    "]"
   ]
  },
  {
   "cell_type": "code",
   "execution_count": 6,
   "metadata": {},
   "outputs": [
    {
     "data": {
      "text/plain": [
       "AIMessage(content='Here are a few ways to say \"Hello, how are you?\" in Tamil:\\n\\n**Formal:**\\n\\n* **வணக்கம், எப்படி இருக்கீங்க?** (Vanakkam, eppadi irukkiengga?)\\n\\n**Informal:**\\n\\n* **சபா, எப்படி இருக்க?** (Sabaa, eppadi irukka?) \\n* **எப்படி இருக்க?** (Eppadi irukka?)\\n\\n**Note:**\\n\\n* **Vanakkam** is a respectful greeting used in formal situations.\\n* **Sabaa** is a more casual greeting, often used among friends and family.\\n* **Irukkiengga** is the polite, formal way to ask \"how are you?\"\\n* **Irukka** is the informal way to ask \"how are you?\" \\n\\n\\n\\n\\nLet me know if you have any other questions!\\n', additional_kwargs={}, response_metadata={'token_usage': {'completion_tokens': 193, 'prompt_tokens': 19, 'total_tokens': 212, 'completion_time': 0.350909091, 'prompt_time': 7.661e-05, 'queue_time': 0.022876477, 'total_time': 0.350985701}, 'model_name': 'gemma2-9b-It', 'system_fingerprint': 'fp_10c08bf97d', 'finish_reason': 'stop', 'logprobs': None}, id='run-620c1701-fbe9-443a-83a2-96110d12b8a5-0', usage_metadata={'input_tokens': 19, 'output_tokens': 193, 'total_tokens': 212})"
      ]
     },
     "execution_count": 6,
     "metadata": {},
     "output_type": "execute_result"
    }
   ],
   "source": [
    "result=model.invoke(input=messages)\n",
    "result"
   ]
  },
  {
   "cell_type": "code",
   "execution_count": 7,
   "metadata": {},
   "outputs": [
    {
     "data": {
      "text/plain": [
       "'Here are a few ways to say \"Hello, how are you?\" in Tamil:\\n\\n**Formal:**\\n\\n* **வணக்கம், எப்படி இருக்கீங்க?** (Vanakkam, eppadi irukkiengga?)\\n\\n**Informal:**\\n\\n* **சபா, எப்படி இருக்க?** (Sabaa, eppadi irukka?) \\n* **எப்படி இருக்க?** (Eppadi irukka?)\\n\\n**Note:**\\n\\n* **Vanakkam** is a respectful greeting used in formal situations.\\n* **Sabaa** is a more casual greeting, often used among friends and family.\\n* **Irukkiengga** is the polite, formal way to ask \"how are you?\"\\n* **Irukka** is the informal way to ask \"how are you?\" \\n\\n\\n\\n\\nLet me know if you have any other questions!\\n'"
      ]
     },
     "execution_count": 7,
     "metadata": {},
     "output_type": "execute_result"
    }
   ],
   "source": [
    "from langchain_core.output_parsers import StrOutputParser\n",
    "parser=StrOutputParser()\n",
    "parser.invoke(input=result)"
   ]
  },
  {
   "cell_type": "code",
   "execution_count": 8,
   "metadata": {},
   "outputs": [
    {
     "data": {
      "text/plain": [
       "'வணக்கம்!  உங்களுக்கு எப்படி இருக்கீங்க? \\n\\n(Vaṇakkam! Ungaluku eppadi irukkiṅga?)\\n\\n\\nLet me break it down:\\n\\n* **வணக்கம்! (Vaṇakkam!)** - Hello\\n* **உங்களுக்கு (Ungaluku)** - To you\\n* **எப்படி (Eppadi)** - How\\n* **இருக்கீங்க (Irukkiṅga?)** - Are you? (polite, formal) \\n\\n\\n\\n\\n'"
      ]
     },
     "execution_count": 8,
     "metadata": {},
     "output_type": "execute_result"
    }
   ],
   "source": [
    "chain=model|parser\n",
    "chain.invoke(input=messages)"
   ]
  },
  {
   "cell_type": "code",
   "execution_count": 9,
   "metadata": {},
   "outputs": [],
   "source": [
    "# prompt template\n",
    "from langchain_core.prompts import ChatPromptTemplate\n",
    "system_prompt_template='Translate the following to {language}'\n",
    "user_prompt_template='{text}'\n",
    "prompt=ChatPromptTemplate.from_messages(\n",
    "    [\n",
    "('system',system_prompt_template),\n",
    "('user',user_prompt_template)\n",
    "])"
   ]
  },
  {
   "cell_type": "code",
   "execution_count": 11,
   "metadata": {},
   "outputs": [
    {
     "data": {
      "text/plain": [
       "ChatPromptValue(messages=[SystemMessage(content='Translate the following to tamil', additional_kwargs={}, response_metadata={}), HumanMessage(content='Good morning', additional_kwargs={}, response_metadata={})])"
      ]
     },
     "execution_count": 11,
     "metadata": {},
     "output_type": "execute_result"
    }
   ],
   "source": [
    "result=prompt.invoke(input={'language':'tamil','text':'Good morning'})\n",
    "result"
   ]
  },
  {
   "cell_type": "code",
   "execution_count": 12,
   "metadata": {},
   "outputs": [
    {
     "data": {
      "text/plain": [
       "[SystemMessage(content='Translate the following to tamil', additional_kwargs={}, response_metadata={}),\n",
       " HumanMessage(content='Good morning', additional_kwargs={}, response_metadata={})]"
      ]
     },
     "execution_count": 12,
     "metadata": {},
     "output_type": "execute_result"
    }
   ],
   "source": [
    "result.messages"
   ]
  },
  {
   "cell_type": "code",
   "execution_count": 13,
   "metadata": {},
   "outputs": [
    {
     "data": {
      "text/plain": [
       "[SystemMessage(content='Translate the following to tamil', additional_kwargs={}, response_metadata={}),\n",
       " HumanMessage(content='Good morning', additional_kwargs={}, response_metadata={})]"
      ]
     },
     "execution_count": 13,
     "metadata": {},
     "output_type": "execute_result"
    }
   ],
   "source": [
    "result.to_messages()"
   ]
  },
  {
   "cell_type": "code",
   "execution_count": 18,
   "metadata": {},
   "outputs": [
    {
     "data": {
      "text/plain": [
       "'Here are a few ways to say \"Wish you a very happy birthday\" in Tamil:\\n\\n**Formal:**\\n\\n* **\"உங்களுக்கு மகிழ்ச்சியான பிறந்தநாள் வாழ்த்துக்கள்\"** (Ungalukku maghilchaaniyan pirandhanal vaazhthukkal) - This is a polite and formal way to say it.\\n\\n**Informal:**\\n\\n* **\"நல்ல பிறந்தநாள் வாழ்த்துக்கள்!\"** (Nalla pirandhanal vaazhthukkal!) - This is a more casual and friendly way to say it.\\n* **\"பிறந்தநாள் வாழ்த்துகள்!\"** (Pirandhanal vaazthugal!) - This is a short and sweet way to say it.\\n\\nYou can also add \"Happy Birthday\" in English after the Tamil phrase for emphasis.\\n\\n\\n\\n'"
      ]
     },
     "execution_count": 18,
     "metadata": {},
     "output_type": "execute_result"
    }
   ],
   "source": [
    "chain=prompt|model|parser\n",
    "chain.invoke(input={'language':'tamil','text':'wish u a very happy birthday'})"
   ]
  },
  {
   "cell_type": "code",
   "execution_count": null,
   "metadata": {},
   "outputs": [],
   "source": []
  }
 ],
 "metadata": {
  "kernelspec": {
   "display_name": "venv",
   "language": "python",
   "name": "python3"
  },
  "language_info": {
   "codemirror_mode": {
    "name": "ipython",
    "version": 3
   },
   "file_extension": ".py",
   "mimetype": "text/x-python",
   "name": "python",
   "nbconvert_exporter": "python",
   "pygments_lexer": "ipython3",
   "version": "3.10.0"
  }
 },
 "nbformat": 4,
 "nbformat_minor": 2
}
